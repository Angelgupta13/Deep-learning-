{
  "nbformat": 4,
  "nbformat_minor": 0,
  "metadata": {
    "colab": {
      "provenance": [],
      "gpuType": "T4",
      "authorship_tag": "ABX9TyPbJnCHHVCH0vqmhlI9aQw1",
      "include_colab_link": true
    },
    "kernelspec": {
      "name": "python3",
      "display_name": "Python 3"
    },
    "language_info": {
      "name": "python"
    },
    "accelerator": "GPU"
  },
  "cells": [
    {
      "cell_type": "markdown",
      "metadata": {
        "id": "view-in-github",
        "colab_type": "text"
      },
      "source": [
        "<a href=\"https://colab.research.google.com/github/Angelgupta13/Deep-learning-/blob/main/Random_seed.ipynb\" target=\"_parent\"><img src=\"https://colab.research.google.com/assets/colab-badge.svg\" alt=\"Open In Colab\"/></a>"
      ]
    },
    {
      "cell_type": "code",
      "execution_count": null,
      "metadata": {
        "id": "cfnFm447z8nL"
      },
      "outputs": [],
      "source": [
        "import torch\n",
        "import numpy as np"
      ]
    },
    {
      "cell_type": "code",
      "source": [
        "random_seed=2\n",
        "torch.manual_seed(random_seed)\n",
        "random_A=torch.rand(3,4)\n",
        "random_seed=2\n",
        "torch.manual_seed(random_seed)\n",
        "random_B=torch.rand(3,4)\n",
        "print(random_A)\n",
        "print(random_B)\n",
        "print(random_A==random_B)"
      ],
      "metadata": {
        "colab": {
          "base_uri": "https://localhost:8080/"
        },
        "id": "uP9N0ksI0FUO",
        "outputId": "ee155d8b-b9a1-4e7f-c216-7ee4984f8073"
      },
      "execution_count": null,
      "outputs": [
        {
          "output_type": "stream",
          "name": "stdout",
          "text": [
            "tensor([[0.6147, 0.3810, 0.6371, 0.4745],\n",
            "        [0.7136, 0.6190, 0.4425, 0.0958],\n",
            "        [0.6142, 0.0573, 0.5657, 0.5332]])\n",
            "tensor([[0.6147, 0.3810, 0.6371, 0.4745],\n",
            "        [0.7136, 0.6190, 0.4425, 0.0958],\n",
            "        [0.6142, 0.0573, 0.5657, 0.5332]])\n",
            "tensor([[True, True, True, True],\n",
            "        [True, True, True, True],\n",
            "        [True, True, True, True]])\n"
          ]
        }
      ]
    },
    {
      "cell_type": "code",
      "source": [
        "device=\"cuda\" if torch.cuda.is_available() else \"hi\"\n",
        "device"
      ],
      "metadata": {
        "colab": {
          "base_uri": "https://localhost:8080/",
          "height": 35
        },
        "id": "U0a9GiA22qlZ",
        "outputId": "3ae108d9-62bc-4b3b-cbb1-1347ef5fee64"
      },
      "execution_count": null,
      "outputs": [
        {
          "output_type": "execute_result",
          "data": {
            "text/plain": [
              "'cuda'"
            ],
            "application/vnd.google.colaboratory.intrinsic+json": {
              "type": "string"
            }
          },
          "metadata": {},
          "execution_count": 4
        }
      ]
    },
    {
      "cell_type": "code",
      "source": [
        "random_seed=0\n",
        "torch.manual_seed(random_seed)\n",
        "a=torch.tensor([1,2,3,])\n",
        "a,a.device"
      ],
      "metadata": {
        "colab": {
          "base_uri": "https://localhost:8080/"
        },
        "id": "i6hiKNvt3049",
        "outputId": "9b792ae2-c767-4639-d887-402ad8e70e0c"
      },
      "execution_count": null,
      "outputs": [
        {
          "output_type": "execute_result",
          "data": {
            "text/plain": [
              "(tensor([1, 2, 3]), device(type='cpu'))"
            ]
          },
          "metadata": {},
          "execution_count": 22
        }
      ]
    },
    {
      "cell_type": "code",
      "source": [
        "random_seed=0\n",
        "torch.manual_seed(random_seed)\n",
        "b=torch.tensor([1,2,3],device=device)\n",
        "b,b.device"
      ],
      "metadata": {
        "colab": {
          "base_uri": "https://localhost:8080/"
        },
        "id": "Aj6B8D813yax",
        "outputId": "d4f6a224-c47e-4e2d-a11b-b454deafb260"
      },
      "execution_count": null,
      "outputs": [
        {
          "output_type": "execute_result",
          "data": {
            "text/plain": [
              "(tensor([1, 2, 3], device='cuda:0'), device(type='cuda', index=0))"
            ]
          },
          "metadata": {},
          "execution_count": 23
        }
      ]
    },
    {
      "cell_type": "code",
      "source": [
        "b.cpu().numpy()"
      ],
      "metadata": {
        "colab": {
          "base_uri": "https://localhost:8080/"
        },
        "id": "bePB51Ju49Nt",
        "outputId": "e84512a7-e318-4ac7-e7c2-caa4d859d1bf"
      },
      "execution_count": null,
      "outputs": [
        {
          "output_type": "execute_result",
          "data": {
            "text/plain": [
              "array([1, 2, 3])"
            ]
          },
          "metadata": {},
          "execution_count": 15
        }
      ]
    },
    {
      "cell_type": "code",
      "source": [
        "random_seed=0\n",
        "torch.manual_seed(random_seed)\n",
        "a=torch.rand(7,7)\n",
        "a"
      ],
      "metadata": {
        "colab": {
          "base_uri": "https://localhost:8080/"
        },
        "id": "tqCT8r2g5kKB",
        "outputId": "565b88af-a929-4ab8-e5be-1c2028f2628b"
      },
      "execution_count": null,
      "outputs": [
        {
          "output_type": "execute_result",
          "data": {
            "text/plain": [
              "tensor([[0.4963, 0.7682, 0.0885, 0.1320, 0.3074, 0.6341, 0.4901],\n",
              "        [0.8964, 0.4556, 0.6323, 0.3489, 0.4017, 0.0223, 0.1689],\n",
              "        [0.2939, 0.5185, 0.6977, 0.8000, 0.1610, 0.2823, 0.6816],\n",
              "        [0.9152, 0.3971, 0.8742, 0.4194, 0.5529, 0.9527, 0.0362],\n",
              "        [0.1852, 0.3734, 0.3051, 0.9320, 0.1759, 0.2698, 0.1507],\n",
              "        [0.0317, 0.2081, 0.9298, 0.7231, 0.7423, 0.5263, 0.2437],\n",
              "        [0.5846, 0.0332, 0.1387, 0.2422, 0.8155, 0.7932, 0.2783]])"
            ]
          },
          "metadata": {},
          "execution_count": 24
        }
      ]
    },
    {
      "cell_type": "code",
      "source": [
        "random_seed=0\n",
        "torch.manual_seed(random_seed)\n",
        "b=torch.rand(7,7)\n"
      ],
      "metadata": {
        "id": "9Hya29mM5q0a"
      },
      "execution_count": null,
      "outputs": []
    },
    {
      "cell_type": "code",
      "source": [
        "print(a==b)"
      ],
      "metadata": {
        "id": "UwM83TB15-bc",
        "colab": {
          "base_uri": "https://localhost:8080/"
        },
        "outputId": "95ab4315-14e0-4adf-847b-2fe0a2f4b1bf"
      },
      "execution_count": null,
      "outputs": [
        {
          "output_type": "stream",
          "name": "stdout",
          "text": [
            "tensor([[True, True, True, True, True, True, True],\n",
            "        [True, True, True, True, True, True, True],\n",
            "        [True, True, True, True, True, True, True],\n",
            "        [True, True, True, True, True, True, True],\n",
            "        [True, True, True, True, True, True, True],\n",
            "        [True, True, True, True, True, True, True],\n",
            "        [True, True, True, True, True, True, True]])\n"
          ]
        }
      ]
    },
    {
      "cell_type": "code",
      "source": [
        "device=\"1234\" if torch.cuda.is_available else \"na\"\n",
        "device"
      ],
      "metadata": {
        "colab": {
          "base_uri": "https://localhost:8080/",
          "height": 35
        },
        "id": "pH95haWROxVx",
        "outputId": "4cb7406e-485f-4a7f-dec1-622602c46995"
      },
      "execution_count": null,
      "outputs": [
        {
          "output_type": "execute_result",
          "data": {
            "text/plain": [
              "'1234'"
            ],
            "application/vnd.google.colaboratory.intrinsic+json": {
              "type": "string"
            }
          },
          "metadata": {},
          "execution_count": 33
        }
      ]
    },
    {
      "cell_type": "code",
      "source": [
        "device=\"cuda\" if torch.cuda.is_available() else \"hi\"\n",
        "device\n",
        "random_seed=1234\n",
        "torch.manual_seed(random_seed)\n",
        "a=torch.rand((2,3),device=device)\n",
        "a\n"
      ],
      "metadata": {
        "colab": {
          "base_uri": "https://localhost:8080/"
        },
        "id": "dI4_2q_HRU9N",
        "outputId": "fd13051b-d24e-49f6-b816-4017068d7789"
      },
      "execution_count": null,
      "outputs": [
        {
          "output_type": "execute_result",
          "data": {
            "text/plain": [
              "tensor([[0.1272, 0.8167, 0.5440],\n",
              "        [0.6601, 0.2721, 0.9737]], device='cuda:0')"
            ]
          },
          "metadata": {},
          "execution_count": 38
        }
      ]
    },
    {
      "cell_type": "code",
      "source": [
        "random_seed=1234\n",
        "torch.manual_seed(random_seed)\n",
        "b=torch.rand((2,3),device=device)\n",
        "b"
      ],
      "metadata": {
        "colab": {
          "base_uri": "https://localhost:8080/"
        },
        "id": "bH9Ie7VwSA5F",
        "outputId": "46c30bcd-2ee7-41e2-e79b-1aa19ed1098f"
      },
      "execution_count": null,
      "outputs": [
        {
          "output_type": "execute_result",
          "data": {
            "text/plain": [
              "tensor([[0.1272, 0.8167, 0.5440],\n",
              "        [0.6601, 0.2721, 0.9737]], device='cuda:0')"
            ]
          },
          "metadata": {},
          "execution_count": 39
        }
      ]
    },
    {
      "cell_type": "code",
      "source": [
        "C=torch.matmul(a,b.T)\n",
        "torch.min(C),torch.max(C)"
      ],
      "metadata": {
        "colab": {
          "base_uri": "https://localhost:8080/"
        },
        "id": "3wjtYL6iSdPz",
        "outputId": "6ec729cc-2048-4b15-e8bd-d8e9cd8563c5"
      },
      "execution_count": null,
      "outputs": [
        {
          "output_type": "execute_result",
          "data": {
            "text/plain": [
              "(tensor(0.8358, device='cuda:0'), tensor(1.4578, device='cuda:0'))"
            ]
          },
          "metadata": {},
          "execution_count": 44
        }
      ]
    },
    {
      "cell_type": "code",
      "source": [
        "ab=torch.rand(1,1,1,10)\n",
        "bc=torch.squeeze(ab)\n",
        "bc.shape,bc,ab"
      ],
      "metadata": {
        "colab": {
          "base_uri": "https://localhost:8080/"
        },
        "id": "TRgosPg8TLae",
        "outputId": "6303a83e-642a-4dc5-a96c-ceeaab60378e"
      },
      "execution_count": null,
      "outputs": [
        {
          "output_type": "execute_result",
          "data": {
            "text/plain": [
              "(torch.Size([10]),\n",
              " tensor([0.3112, 0.7091, 0.1775, 0.4443, 0.1230, 0.9638, 0.7695, 0.0378, 0.2239,\n",
              "         0.6772]),\n",
              " tensor([[[[0.3112, 0.7091, 0.1775, 0.4443, 0.1230, 0.9638, 0.7695, 0.0378,\n",
              "            0.2239, 0.6772]]]]))"
            ]
          },
          "metadata": {},
          "execution_count": 53
        }
      ]
    }
  ]
}